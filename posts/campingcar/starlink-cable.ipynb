{
 "cells": [
  {
   "cell_type": "raw",
   "id": "ced5af80",
   "metadata": {},
   "source": [
    "---\n",
    "title: \"Starlinkのケーブルをなんとかしてみた\"\n",
    "description: \"Starlinkのケーブル、長いんじゃ！\"\n",
    "author: \"tesshy\"\n",
    "date: \"2022-10-15\"\n",
    "categories:\n",
    "  - Coaster\n",
    "  - CaompingCar\n",
    "  - Starlink\n",
    "  - Gadget\n",
    "---"
   ]
  },
  {
   "attachments": {},
   "cell_type": "markdown",
   "id": "f7ea043e",
   "metadata": {},
   "source": [
    "Starlinkのケーブルが長くて硬くてポータビリティが低いのでちょっと対策してみた。"
   ]
  },
  {
   "cell_type": "markdown",
   "id": "0659114e",
   "metadata": {},
   "source": [
    "まずはケーブルの仕様。普通のPoEだろうと思ってたらどうも違うらしい。\n",
    "\n",
    "- https://twitter.com/namururu/status/1583315723191218177?s=61&t=DAh4doLyPnxJDl90WzfL6A\n",
    "- https://dishypowa.com/\n",
    "- https://www.facebook.com/groups/446129073286883/permalink/561933028373153/\n",
    "\n",
    "どうも56v/0.75A=42Wがペアに流れるらしい。んでもってケーブルはSTPのCAT5eのAWG24っぽい。ケーブル見るとシールドコネクタだから多分それがいいんだろう。"
   ]
  },
  {
   "cell_type": "markdown",
   "id": "55b8a575",
   "metadata": {},
   "source": []
  }
 ],
 "metadata": {
  "kernelspec": {
   "display_name": "Python 3.10.7 64-bit",
   "language": "python",
   "name": "python3"
  },
  "language_info": {
   "name": "python",
   "version": "3.10.7"
  },
  "nikola": {
   "category": "",
   "date": "2022-10-08 15:48:55+09:00",
   "description": "",
   "link": "",
   "slug": "starlink",
   "tags": "",
   "title": "Starlink",
   "type": "text"
  },
  "vscode": {
   "interpreter": {
    "hash": "b0fa6594d8f4cbf19f97940f81e996739fb7646882a419484c72d19e05852a7e"
   }
  }
 },
 "nbformat": 4,
 "nbformat_minor": 5
}
