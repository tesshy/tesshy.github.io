{
 "cells": [
  {
   "cell_type": "markdown",
   "metadata": {},
   "source": [
    "さて、今日は床材どうするか調べる。"
   ]
  },
  {
   "cell_type": "markdown",
   "metadata": {},
   "source": [
    "んで、今回のスプリントにおいて最も重要なのがベットの作成。荷物乗せることもあるだろうから取り外せるようにしたい。\n",
    "\n",
    "支えはサイドに調子良くあいてるM8のネジ穴つかって、2x8の板渡して支えにしようかと。そんでその上に構造用合板載せようかなと。\n",
    "\n",
    "・・・図面引かないと不味そうなので、週末やろう、ということまで決めた●\n",
    "\n",
    "---\n",
    "\n",
    "今日の作業はシートガイド外すこと。これが邪魔になって2x8の渡しができ無さそうなので。\n",
    "\n",
    "<blockquote class=\"instagram-media\" data-instgrm-captioned data-instgrm-permalink=\"https://www.instagram.com/p/BltsMFTAdl_/\" data-instgrm-version=\"9\" style=\" background:#FFF; border:0; border-radius:3px; box-shadow:0 0 1px 0 rgba(0,0,0,0.5),0 1px 10px 0 rgba(0,0,0,0.15); margin: 1px; max-width:540px; min-width:326px; padding:0; width:99.375%; width:-webkit-calc(100% - 2px); width:calc(100% - 2px);\"><div style=\"padding:8px;\"> <div style=\" background:#F8F8F8; line-height:0; margin-top:40px; padding:50% 0; text-align:center; width:100%;\"> <div style=\" background:url(data:image/png;base64,iVBORw0KGgoAAAANSUhEUgAAACwAAAAsCAMAAAApWqozAAAABGdBTUEAALGPC/xhBQAAAAFzUkdCAK7OHOkAAAAMUExURczMzPf399fX1+bm5mzY9AMAAADiSURBVDjLvZXbEsMgCES5/P8/t9FuRVCRmU73JWlzosgSIIZURCjo/ad+EQJJB4Hv8BFt+IDpQoCx1wjOSBFhh2XssxEIYn3ulI/6MNReE07UIWJEv8UEOWDS88LY97kqyTliJKKtuYBbruAyVh5wOHiXmpi5we58Ek028czwyuQdLKPG1Bkb4NnM+VeAnfHqn1k4+GPT6uGQcvu2h2OVuIf/gWUFyy8OWEpdyZSa3aVCqpVoVvzZZ2VTnn2wU8qzVjDDetO90GSy9mVLqtgYSy231MxrY6I2gGqjrTY0L8fxCxfCBbhWrsYYAAAAAElFTkSuQmCC); display:block; height:44px; margin:0 auto -44px; position:relative; top:-22px; width:44px;\"></div></div> <p style=\" margin:8px 0 0 0; padding:0 4px;\"> <a href=\"https://www.instagram.com/p/BltsMFTAdl_/\" style=\" color:#000; font-family:Arial,sans-serif; font-size:14px; font-style:normal; font-weight:normal; line-height:17px; text-decoration:none; word-wrap:break-word;\" target=\"_blank\">2018/07/26 作業記録</a></p> <p style=\" color:#c9c8cd; font-family:Arial,sans-serif; font-size:14px; line-height:17px; margin-bottom:0; margin-top:8px; overflow:hidden; padding:8px 0 7px; text-align:center; text-overflow:ellipsis; white-space:nowrap;\"><a href=\"https://www.instagram.com/tesshy/\" style=\" color:#c9c8cd; font-family:Arial,sans-serif; font-size:14px; font-style:normal; font-weight:normal; line-height:17px;\" target=\"_blank\"> Tetsushi Watanabe</a>さん(@tesshy)がシェアした投稿 - <time style=\" font-family:Arial,sans-serif; font-size:14px; line-height:17px;\" datetime=\"2018-07-26T23:49:47+00:00\">2018年 7月月26日午後4時49分PDT</time></p></div></blockquote>\n",
    "\n",
    "つーかね、昨日の作業が重すぎたのか日中ずっと眠くて作業進まず●アカンですね、コンスタントの作業を進めなければ。。。\n",
    "\n",
    "明日は東京なので、作業中止デース。（無職にも、色々ある。）\n",
    "\n",
    "\n",
    "<!-- んで気になったのが耐荷重。調べてみたらドンピシャな資料が。\n",
    "\n",
    "[構造用合板の強度実験データ](http://www.jpma.jp/data/kouzou/kouz51-55.pdf)\n",
    "\n",
    "でかいサイズもあるんだけど、入手性考えるとサブロク（1820x910）だろうから、これを基準に耐荷重見ると、\n",
    "\n",
    "- ラワン材12mm厚でせん断強さ6.27N/mm2、\n",
    "- サブロクの面積は1820x910=1656200mm2\n",
    "- 均一に荷重をかけた際に耐えられる荷重は1656200 * 6.27 = 10384374N\n",
    "    - グラムに直すと 10384374 / 9.8 = 10384374kg -->"
   ]
  }
 ],
 "metadata": {
  "hide_input": false,
  "kernelspec": {
   "display_name": "Python 3",
   "language": "python",
   "name": "python3"
  },
  "language_info": {
   "codemirror_mode": {
    "name": "ipython",
    "version": 3
   },
   "file_extension": ".py",
   "mimetype": "text/x-python",
   "name": "python",
   "nbconvert_exporter": "python",
   "pygments_lexer": "ipython3",
   "version": "3.7.2"
  },
  "nikola": {
   "category": "",
   "date": "2018-07-26 12:01:02 UTC+09:00",
   "description": "",
   "link": "",
   "slug": "2018-07-26",
   "tags": "",
   "title": "キャンピングカー制作日誌::2018-07-26",
   "type": "text"
  },
  "toc": {
   "base_numbering": 1,
   "nav_menu": {},
   "number_sections": true,
   "sideBar": true,
   "skip_h1_title": false,
   "title_cell": "Table of Contents",
   "title_sidebar": "Contents",
   "toc_cell": false,
   "toc_position": {},
   "toc_section_display": true,
   "toc_window_display": false
  }
 },
 "nbformat": 4,
 "nbformat_minor": 2
}
