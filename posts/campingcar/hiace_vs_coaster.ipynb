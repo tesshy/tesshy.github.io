{
 "cells": [
  {
   "cell_type": "markdown",
   "metadata": {},
   "source": [
    "ここに文書を記述してください。"
   ]
  }
 ],
 "metadata": {
  "kernelspec": {
   "display_name": "Python 3",
   "env": {},
   "interrupt_mode": "signal",
   "language": "python",
   "metadata": {},
   "name": "python3"
  },
  "nikola": {
   "category": "",
   "date": "2019-02-19 11:24:11+09:00",
   "description": "",
   "link": "",
   "slug": "xin-xing-haiesutokosutanobi-jiao",
   "tags": "",
   "title": "新型ハイエースとコースターの比較",
   "type": "text"
  }
 },
 "nbformat": 4,
 "nbformat_minor": 2
}
