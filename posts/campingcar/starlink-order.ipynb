{
 "cells": [
  {
   "cell_type": "markdown",
   "id": "f7ea043e",
   "metadata": {},
   "source": [
    "ちょっとやる気出して更新していこう（というのも、書かないとマジで忘れる・・・）"
   ]
  }
 ],
 "metadata": {
  "kernelspec": {
   "display_name": "Python 3.10.7 64-bit",
   "language": "python",
   "name": "python3"
  },
  "language_info": {
   "name": "python",
   "version": "3.10.7"
  },
  "nikola": {
   "category": "",
   "date": "2022-10-08 15:48:55+09:00",
   "description": "",
   "link": "",
   "slug": "starlink",
   "tags": "",
   "title": "Starlink",
   "type": "text"
  },
  "vscode": {
   "interpreter": {
    "hash": "b0fa6594d8f4cbf19f97940f81e996739fb7646882a419484c72d19e05852a7e"
   }
  }
 },
 "nbformat": 4,
 "nbformat_minor": 5
}
