{
 "cells": [
  {
   "cell_type": "raw",
   "metadata": {},
   "source": [
    "---\n",
    "title: \"2018-07-23\"\n",
    "description: \"暑い、暑い、暑い。。。熊谷では41.1度だったそうですよ。。。\"\n",
    "author: \"tesshy\"\n",
    "date: \"2018-07-23\"\n",
    "categories:\n",
    "  - Coaster\n",
    "  - CaompingCar\n",
    "  - DIY\n",
    "---"
   ]
  },
  {
   "cell_type": "markdown",
   "metadata": {},
   "source": [
    "暑い、暑い、暑い。。。熊谷では41.1度だったそうですよ。。。"
   ]
  },
  {
   "cell_type": "markdown",
   "metadata": {},
   "source": [
    "というわけで、このクソ暑い中作業。と言ってもどう考えても熱中症でぶっ倒れそうだったので休み休み。。。\n",
    "\n",
    "今日の作業は後方の内装引っ剥がして、床材の剥離までたどり着くこと。とりあえず昨日外した左後方のパネルがわかるようにマジックでマーキング。（一応パーツ毎に部位が打刻?されてるので見ればわかるっちゃわかるけど、見にくい）\n",
    "\n",
    "<blockquote class=\"instagram-media\" data-instgrm-captioned data-instgrm-permalink=\"https://www.instagram.com/p/Bll67jZgEBv/\" data-instgrm-version=\"9\" style=\" background:#FFF; border:0; border-radius:3px; box-shadow:0 0 1px 0 rgba(0,0,0,0.5),0 1px 10px 0 rgba(0,0,0,0.15); margin: 1px; max-width:540px; min-width:326px; padding:0; width:99.375%; width:-webkit-calc(100% - 2px); width:calc(100% - 2px);\"><div style=\"padding:8px;\"> <div style=\" background:#F8F8F8; line-height:0; margin-top:40px; padding:50% 0; text-align:center; width:100%;\"> <div style=\" background:url(data:image/png;base64,iVBORw0KGgoAAAANSUhEUgAAACwAAAAsCAMAAAApWqozAAAABGdBTUEAALGPC/xhBQAAAAFzUkdCAK7OHOkAAAAMUExURczMzPf399fX1+bm5mzY9AMAAADiSURBVDjLvZXbEsMgCES5/P8/t9FuRVCRmU73JWlzosgSIIZURCjo/ad+EQJJB4Hv8BFt+IDpQoCx1wjOSBFhh2XssxEIYn3ulI/6MNReE07UIWJEv8UEOWDS88LY97kqyTliJKKtuYBbruAyVh5wOHiXmpi5we58Ek028czwyuQdLKPG1Bkb4NnM+VeAnfHqn1k4+GPT6uGQcvu2h2OVuIf/gWUFyy8OWEpdyZSa3aVCqpVoVvzZZ2VTnn2wU8qzVjDDetO90GSy9mVLqtgYSy231MxrY6I2gGqjrTY0L8fxCxfCBbhWrsYYAAAAAElFTkSuQmCC); display:block; height:44px; margin:0 auto -44px; position:relative; top:-22px; width:44px;\"></div></div> <p style=\" margin:8px 0 0 0; padding:0 4px;\"> <a href=\"https://www.instagram.com/p/Bll67jZgEBv/\" style=\" color:#000; font-family:Arial,sans-serif; font-size:14px; font-style:normal; font-weight:normal; line-height:17px; text-decoration:none; word-wrap:break-word;\" target=\"_blank\">2018-07-23 作業記録</a></p> <p style=\" color:#c9c8cd; font-family:Arial,sans-serif; font-size:14px; line-height:17px; margin-bottom:0; margin-top:8px; overflow:hidden; padding:8px 0 7px; text-align:center; text-overflow:ellipsis; white-space:nowrap;\"><a href=\"https://www.instagram.com/tesshy/\" style=\" color:#c9c8cd; font-family:Arial,sans-serif; font-size:14px; font-style:normal; font-weight:normal; line-height:17px;\" target=\"_blank\"> Tetsushi Watanabe</a>さん(@tesshy)がシェアした投稿 - <time style=\" font-family:Arial,sans-serif; font-size:14px; line-height:17px;\" datetime=\"2018-07-23T23:24:40+00:00\">2018年 7月月23日午後4時24分PDT</time></p></div></blockquote>\n",
    "\n",
    "内張り外す時にロープ用フックを外す必要あり。M6なのでインパクトで回せばすぐやろと思ったら、一箇所どう考えても締め付け強すぎなボルトに遭遇。\n",
    "整備マニュアル見ないとわからんけど、ありゃ施工不良だろう、というレベル（ロングのラチェット使って外した）。それ以外はスイスイとれましたとさ。\n",
    "\n",
    "結構バリバリ外しちゃったけど、ツメ欠けなども起きず現状は順調。とりま外せたので、後は床材の剥離。この段階でも結構暖かかったがやっぱり剥がれない・・・。\n",
    "無駄な労力も割きたくなかったので、明日日中ピーカンの時狙って、ヒートガン使って一気に剥がそうと思います。\n",
    "（無理に剥がすとベースのコンパネまでバリバリにしちゃうのであんまりやらないほうが良いかと）\n",
    "\n",
    "内張り外したおかげで、ベット用の足というかフレームを埋め込む場所も大体FIX。おそらく2x8を渡してその上に2x4とコンパネで組んだすのこ的なものをかぶせることになるかと。\n",
    "まだ図面もひいてないのでそれは追って。。。\n",
    "\n",
    "というわけで、今日はバリバリ外して終わりましたとさ。（進行が遅い・・・）\n"
   ]
  }
 ],
 "metadata": {
  "hide_input": false,
  "kernelspec": {
   "display_name": "Python 3.10.7 64-bit",
   "language": "python",
   "name": "python3"
  },
  "language_info": {
   "codemirror_mode": {
    "name": "ipython",
    "version": 3
   },
   "file_extension": ".py",
   "mimetype": "text/x-python",
   "name": "python",
   "nbconvert_exporter": "python",
   "pygments_lexer": "ipython3",
   "version": "3.10.7"
  },
  "nikola": {
   "category": "",
   "date": "2018-07-23 12:01:02 UTC+09:00",
   "description": "",
   "link": "",
   "slug": "2018-07-23",
   "tags": "",
   "title": "キャンピングカー制作日誌::2018-07-23",
   "type": "text"
  },
  "toc": {
   "base_numbering": 1,
   "nav_menu": {},
   "number_sections": true,
   "sideBar": true,
   "skip_h1_title": false,
   "title_cell": "Table of Contents",
   "title_sidebar": "Contents",
   "toc_cell": false,
   "toc_position": {},
   "toc_section_display": true,
   "toc_window_display": false
  },
  "vscode": {
   "interpreter": {
    "hash": "b0fa6594d8f4cbf19f97940f81e996739fb7646882a419484c72d19e05852a7e"
   }
  }
 },
 "nbformat": 4,
 "nbformat_minor": 2
}
