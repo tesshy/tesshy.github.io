{
 "cells": [
  {
   "cell_type": "markdown",
   "metadata": {},
   "source": [
    "ここに文書を記述してください。"
   ]
  }
 ],
 "metadata": {
  "kernelspec": {
   "display_name": "Python 3 (ipykernel)",
   "language": "python",
   "name": "python3"
  },
  "language_info": {
   "codemirror_mode": {
    "name": "ipython",
    "version": 3
   },
   "file_extension": ".py",
   "mimetype": "text/x-python",
   "name": "python",
   "nbconvert_exporter": "python",
   "pygments_lexer": "ipython3",
   "version": "3.10.7"
  },
  "nikola": {
   "category": "",
   "date": "2020-06-21 10:27:25+09:00",
   "description": "",
   "link": "",
   "slug": "kosutanobetsutowojian-zhi-su",
   "tags": "",
   "title": "コースターのベットを見直す",
   "type": "text"
  }
 },
 "nbformat": 4,
 "nbformat_minor": 4
}
