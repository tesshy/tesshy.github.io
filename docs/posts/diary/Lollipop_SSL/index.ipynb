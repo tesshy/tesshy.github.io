{
 "cells": [
  {
   "cell_type": "markdown",
   "metadata": {},
   "source": [
    "これがわからんかった、ロリポップサーバーで独自SSL証明書使う方法。\n",
    "\n",
    "公式ドキュメントは以下のように記載がある。\n",
    "\n",
    "```\n",
    "・他社ドメイン管理サービスで管理されている独自ドメインは、ネームサーバー情報として下記をご設定ください。\n",
    "　uns01.lolipop.jp\n",
    "　uns02.lolipop.jp\n",
    " \n",
    "https://lolipop.jp/support/faq/ssl/000797/\n",
    "```\n",
    "\n",
    "んなアホな、レコード設定もできないNS（ネームサーバー）向けろとか無理やろ。。。と思って、最初の設定の時だけ　uns01.lolipop.jp 　uns02.lolipop.jp をNSに設定して、独自SSL設定できたら本来使いたいNSに戻すというのをしてたんだが、これだとLet's Encryptの有効期限（多分三ヶ月）過ぎると証明書自動更新できなくて死ぬ（SSL証明書検証エラーになる）。\n",
    "\n",
    "だが、どうもロリポのNS使ってないサーバーでも更新できているサーバーがいる。この違いはなんだ・・・と思って調べたら、どうも@に対してAレコードでロリポのサーバー向ければいいっぽい。（サブドメインじゃなくて、ドメインに対してのAレコードをロリポのサーバーにする）\n",
    "\n",
    "具体的にはこんな感じ。\n",
    "\n",
    "```\n",
    "tesshy.com.\t\t3599\tIN\tA\t157.7.107.129\n",
    "```\n",
    "\n",
    "これで自動更新までできることを確認。めでたしめでたし。（どうもサポート外の使い方っぽいのでご利用は計画的に・・・）"
   ]
  }
 ],
 "metadata": {
  "hide_input": false,
  "kernelspec": {
   "display_name": "Python 3",
   "language": "python",
   "name": "python3"
  },
  "language_info": {
   "codemirror_mode": {
    "name": "ipython",
    "version": 3
   },
   "file_extension": ".py",
   "mimetype": "text/x-python",
   "name": "python",
   "nbconvert_exporter": "python",
   "pygments_lexer": "ipython3",
   "version": "3.7.2"
  },
  "nikola": {
   "category": "",
   "date": "2019-01-29 15:03:29+09:00",
   "description": "",
   "link": "",
   "slug": "Lollipop_SSL",
   "tags": "",
   "title": "ロリポップの独自SSLを外部ネームサーバーで使用する方法",
   "type": "text"
  },
  "toc": {
   "base_numbering": 1,
   "nav_menu": {},
   "number_sections": true,
   "sideBar": true,
   "skip_h1_title": false,
   "title_cell": "Table of Contents",
   "title_sidebar": "Contents",
   "toc_cell": false,
   "toc_position": {},
   "toc_section_display": true,
   "toc_window_display": false
  }
 },
 "nbformat": 4,
 "nbformat_minor": 2
}
