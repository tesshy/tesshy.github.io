{
 "cells": [
  {
   "cell_type": "raw",
   "metadata": {},
   "source": [
    "---\n",
    "title: \"ipynbテンプレート\"\n",
    "description: \"最低限これ埋めればおk\"\n",
    "author: \"tesshy\"\n",
    "date: \"2019-01-29\"\n",
    "categories:\n",
    "  - IT\n",
    "  - Hack\n",
    "---"
   ]
  }
 ],
 "metadata": {
  "language_info": {
   "name": "python"
  },
  "orig_nbformat": 4
 },
 "nbformat": 4,
 "nbformat_minor": 2
}
