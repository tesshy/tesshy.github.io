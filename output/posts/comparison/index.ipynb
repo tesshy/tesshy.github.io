{
 "cells": [
  {
   "cell_type": "markdown",
   "metadata": {},
   "source": [
    "ここに文書を記述してください。"
   ]
  }
 ],
 "metadata": {
  "kernelspec": {
   "display_name": "Python 3",
   "env": {},
   "interrupt_mode": "signal",
   "language": "python",
   "metadata": {},
   "name": "python3"
  },
  "nikola": {
   "category": "",
   "date": "2018-12-25 00:36:23+09:00",
   "description": "",
   "link": "",
   "slug": "comparison",
   "tags": "",
   "title": "comparison",
   "type": "text"
  }
 },
 "nbformat": 4,
 "nbformat_minor": 2
}
