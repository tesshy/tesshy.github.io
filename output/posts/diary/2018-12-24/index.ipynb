{
 "cells": [
  {
   "cell_type": "markdown",
   "metadata": {},
   "source": [
    "ちょっと仕事で札幌に行く用事。ANA 機内WiFiなるものが気になったので使ってたのだが、ポータルサイトの通信が異常に多いことに気が付いてDev Consoleで見てみたら、何やら楽しそうなJSONがやりとりされてたのでGETしてみた。\n",
    "\n",
    "```bash\n",
    "curl \"http://services.inflightpanasonic.aero/inflight/services/flightdata/v1/flightdata\" | jq .\n",
    "  % Total    % Received % Xferd  Average Speed   Time    Time     Time  Current\n",
    "                                 Dload  Upload   Total   Spent    Left  Speed\n",
    "100  2151  100  2151    0     0   181k      0 --:--:-- --:--:-- --:--:--  190k\n",
    "```\n",
    "\n",
    "```json\n",
    "{\n",
    "  \"td_id_decompression\": \"0\",\n",
    "  \"td_id_weight_on_wheels\": \"0\",\n",
    "  \"td_id_all_doors_closed\": \"1\",\n",
    "  \"td_id_x2_pa_state\": \"0\",\n",
    "  \"td_id_fltdata_ground_speed\": \"0433\",\n",
    "  \"td_id_fltdata_time_to_destination\": \"0051\",\n",
    "  \"td_id_fltdata_wind_speed\": \"-140\",\n",
    "  \"td_id_fltdata_mach\": \"0836\",\n",
    "  \"td_id_fltdata_true_heading\": \"0191\",\n",
    "  \"td_id_fltdata_gmt\": \"0419\",\n",
    "  \"td_id_fltdata_outside_air_temp\": \"8050\",\n",
    "  \"td_id_fltdata_head_wind_speed\": \"-140\",\n",
    "  \"td_id_fltdata_date\": \"00261218\",\n",
    "  \"td_id_fltdata_distance_to_destination\": \"00000287\",\n",
    "  \"td_id_fltdata_altitude\": \"00032001\",\n",
    "  \"td_id_fltdata_present_position_latitude\": \"00039352\",\n",
    "  \"td_id_fltdata_present_position_longitude\": \"00141077\",\n",
    "  \"td_id_fltdata_destination_latitude\": \"00035339\",\n",
    "  \"td_id_fltdata_destination_longitude\": \"00139455\",\n",
    "  \"td_id_fltdata_destination_id\": \"RJTT\",\n",
    "  \"td_id_fltdata_departure_id\": \"RJCC\",\n",
    "  \"td_id_fltdata_flight_number\": \"ANA62\",\n",
    "  \"td_id_fltdata_destination_baggage_id\": \"HND\",\n",
    "  \"td_id_fltdata_departure_baggage_id\": \"CTS\",\n",
    "  \"td_id_airframe_tail_number\": \"JA707A\",\n",
    "  \"td_id_flight_phase\": \"7\",\n",
    "  \"td_id_gmt_offset_departure\": \"00009.00\",\n",
    "  \"td_id_gmt_offset_destination\": \"00009.00\",\n",
    "  \"td_id_route_id\": \"2\",\n",
    "  \"td_id_fltdata_time_at_origin\": \"1319\",\n",
    "  \"td_id_fltdata_time_at_destination\": \"1319\",\n",
    "  \"td_id_fltdata_distance_from_origin\": \"00000196\",\n",
    "  \"td_id_fltdata_distance_traveled\": \"00000196\",\n",
    "  \"td_id_fltdata_estimated_arrival_time\": \"1410\",\n",
    "  \"td_id_fltdata_time_at_takeoff\": \"002612180348\",\n",
    "  \"td_id_fltdata_departure_latitude\": \"00042463\",\n",
    "  \"td_id_fltdata_departure_longitude\": \"00141413\",\n",
    "  \"td_id_pdi_fltdata_departure_iata\": \"\",\n",
    "  \"td_id_pdi_fltdata_departure_time_scheduled\": \"\",\n",
    "  \"td_id_pdi_fltdata_arrival_iata\": \"\",\n",
    "  \"td_id_fltdata_wind_direction\": \"0268\",\n",
    "  \"td_id_media_date\": \"20181201\",\n",
    "  \"td_id_extv_channel_listing_version\": \"1075\",\n",
    "  \"disclaimer\": \"Attn: Data elements such as temperature, flight latitude, flight longitude, etc. are classified as Product Public under the Panasonic Product Data Classification Framework. Information under this classification does not carry any access, labeling, or transmission restrictions. Deliberate or accidental exposure to these types of data elements, does not lead to any adverse impact to aircraft operations or safety.\"\n",
    "}\n",
    "```\n",
    "\n",
    "暇なんでGoogle Mapsで現在位置URL生成するスクリプト書いてみた。"
   ]
  },
  {
   "cell_type": "code",
   "execution_count": 12,
   "metadata": {},
   "outputs": [
    {
     "name": "stdout",
     "output_type": "stream",
     "text": [
      "https://maps.google.com/maps?z=10&q=36.156,140.148\n"
     ]
    }
   ],
   "source": [
    "import requests\n",
    "import json\n",
    "\n",
    "url = \"http://services.inflightpanasonic.aero/inflight/services/flightdata/v1/flightdata\"\n",
    "headers = {\"content-type\": \"application/json\"}\n",
    "r = requests.get(url, headers=headers)\n",
    "d = r.json()\n",
    "lat = float(d[\"td_id_fltdata_present_position_latitude\"]) / 1000\n",
    "lon = float(d[\"td_id_fltdata_present_position_longitude\"]) / 1000\n",
    "print(f\"https://maps.google.com/maps?z=10&q={lat},{lon}\")"
   ]
  },
  {
   "cell_type": "markdown",
   "metadata": {},
   "source": [
    "うむ、動いた。もう少し時間あれば定期的にGETしてきてピン動かすとかしたかったんだけど、そろそろ降下なのでここまで、ちゃんちゃん。\n",
    "\n",
    "機内サーバーに地図データ置いてリアルタイムにみられるようにすればいいと思うんだがいかんのかね・・・（飛んでる時に現在地が常に知りたい病）"
   ]
  }
 ],
 "metadata": {
  "hide_input": false,
  "kernelspec": {
   "display_name": "Python 3",
   "language": "python",
   "name": "python3"
  },
  "language_info": {
   "codemirror_mode": {
    "name": "ipython",
    "version": 3
   },
   "file_extension": ".py",
   "mimetype": "text/x-python",
   "name": "python",
   "nbconvert_exporter": "python",
   "pygments_lexer": "ipython3",
   "version": "3.7.2"
  },
  "nikola": {
   "category": "diary",
   "date": "2018-12-24 17:40:43 UTC+09:00",
   "description": "",
   "link": "",
   "slug": "2018-12-24",
   "tags": "diary",
   "title": "2018-12-24",
   "type": "text"
  },
  "toc": {
   "base_numbering": 1,
   "nav_menu": {},
   "number_sections": true,
   "sideBar": true,
   "skip_h1_title": false,
   "title_cell": "Table of Contents",
   "title_sidebar": "Contents",
   "toc_cell": false,
   "toc_position": {},
   "toc_section_display": true,
   "toc_window_display": false
  }
 },
 "nbformat": 4,
 "nbformat_minor": 2
}
